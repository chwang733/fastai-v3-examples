{
 "cells": [
  {
   "cell_type": "markdown",
   "metadata": {},
   "source": [
    "## A notebook to demostrate how to down images from google using Javascript console"
   ]
  },
  {
   "cell_type": "code",
   "execution_count": 2,
   "metadata": {},
   "outputs": [],
   "source": [
    "%reload_ext autoreload\n",
    "%autoreload 2\n",
    "%matplotlib inline"
   ]
  },
  {
   "cell_type": "code",
   "execution_count": 3,
   "metadata": {},
   "outputs": [],
   "source": [
    "from fastai import *\n",
    "from fastai.vision import *"
   ]
  },
  {
   "cell_type": "code",
   "execution_count": 4,
   "metadata": {},
   "outputs": [
    {
     "name": "stdout",
     "output_type": "stream",
     "text": [
      "1.0.0.dev20181022\n",
      "1.0.19.dev0\n"
     ]
    }
   ],
   "source": [
    "print(torch.__version__)\n",
    "import fastai\n",
    "print(fastai.__version__)"
   ]
  },
  {
   "cell_type": "markdown",
   "metadata": {},
   "source": [
    "### create parent folder and define the classes"
   ]
  },
  {
   "cell_type": "code",
   "execution_count": 5,
   "metadata": {},
   "outputs": [],
   "source": [
    "path=Path('data/bears')\n",
    "classes = ['teddys','grizzly','black']\n",
    "path.mkdir(parents=True, exist_ok=True) "
   ]
  },
  {
   "cell_type": "markdown",
   "metadata": {},
   "source": [
    "### Go to google images to search for the images you want. The maximum number of images can be downloaded is 400. Use the following Javascript in developer tool console to download the links to the images as a file\n",
    "\n",
    "urls = Array.from(document.querySelectorAll('.rg_di .rg_meta')).map(el=>JSON.parse(el.textContent).ou);\n",
    "window.open('data:text/csv;charset=utf-8,' + escape(urls.join('\\n')));\n"
   ]
  },
  {
   "cell_type": "code",
   "execution_count": 26,
   "metadata": {},
   "outputs": [
    {
     "name": "stdout",
     "output_type": "stream",
     "text": [
      "['teddys', 'grizzly', 'black'] ['urls_teddys.txt', 'urls_grizzly.txt', 'urls_black.txt']\n"
     ]
    }
   ],
   "source": [
    "imgLinks=[]\n",
    "for c in classes:\n",
    "    file= 'urls_%s.txt' % c\n",
    "    imgLinks.append(file)\n",
    "    dest=path/c\n",
    "    dest.mkdir(parents=True, exist_ok=True) \n",
    "\n",
    "print(classes, imgLinks)"
   ]
  },
  {
   "cell_type": "markdown",
   "metadata": {},
   "source": [
    "### download all images and remove invalid links"
   ]
  },
  {
   "cell_type": "code",
   "execution_count": 28,
   "metadata": {
    "scrolled": true
   },
   "outputs": [
    {
     "name": "stdout",
     "output_type": "stream",
     "text": [
      "teddys\n"
     ]
    },
    {
     "data": {
      "text/html": [
       "\n",
       "    <div>\n",
       "        <style>\n",
       "        \t/* Turns off some styling */\n",
       "        \tprogress {\n",
       "\n",
       "            \t/* gets rid of default border in Firefox and Opera. */\n",
       "            \tborder: none;\n",
       "\n",
       "            \t/* Needs to be in here for Safari polyfill so background images work as expected. */\n",
       "            \tbackground-size: auto;\n",
       "            }\n",
       "\n",
       "            .progress-bar-interrupted, .progress-bar-interrupted::-webkit-progress-bar {\n",
       "                background: #F44336;\n",
       "            }\n",
       "        </style>\n",
       "      <progress value='200' class='' max='200', style='width:300px; height:20px; vertical-align: middle;'></progress>\n",
       "      100.00% [200/200 00:21<00:00]\n",
       "    </div>\n",
       "    "
      ],
      "text/plain": [
       "<IPython.core.display.HTML object>"
      ]
     },
     "metadata": {},
     "output_type": "display_data"
    },
    {
     "name": "stdout",
     "output_type": "stream",
     "text": [
      "Error https://lookaside.fbsbx.com/lookaside/crawler/media/?media_id=173570806118055 'content-length'\n",
      "Error https://pixl.varagesale.com/http://s3.amazonaws.com/hopshop-image-store-production/134633702/83e6c7a4acdd16016a928716210d9ae1.jpg?_ver=large_uploader_thumbnail&w=640&h=640&fit=crop&s=586e111d09a647ce1956e750f7660b9f 'content-length'\n",
      "Error http://www.photobookamerica.com/media/catalog/product/cache/21/small_image/420x/040ec09b1e35df139433887a97daa66f/t/e/teddybears-category_blank.png 'content-length'\n",
      "Error https://www.bearpile.com/user/3816/15241507081b.jpg 'content-length'\n"
     ]
    },
    {
     "data": {
      "text/html": [
       "\n",
       "    <div>\n",
       "        <style>\n",
       "        \t/* Turns off some styling */\n",
       "        \tprogress {\n",
       "\n",
       "            \t/* gets rid of default border in Firefox and Opera. */\n",
       "            \tborder: none;\n",
       "\n",
       "            \t/* Needs to be in here for Safari polyfill so background images work as expected. */\n",
       "            \tbackground-size: auto;\n",
       "            }\n",
       "\n",
       "            .progress-bar-interrupted, .progress-bar-interrupted::-webkit-progress-bar {\n",
       "                background: #F44336;\n",
       "            }\n",
       "        </style>\n",
       "      <progress value='196' class='' max='196', style='width:300px; height:20px; vertical-align: middle;'></progress>\n",
       "      100.00% [196/196 00:03<00:00]\n",
       "    </div>\n",
       "    "
      ],
      "text/plain": [
       "<IPython.core.display.HTML object>"
      ]
     },
     "metadata": {},
     "output_type": "display_data"
    },
    {
     "name": "stdout",
     "output_type": "stream",
     "text": [
      "cannot identify image file '/home/chihchungwang/Documents/git/data/bears1/teddys/00000028.jpg'\n",
      "cannot identify image file '/home/chihchungwang/Documents/git/data/bears1/teddys/00000013.jpg'\n",
      "cannot identify image file '/home/chihchungwang/Documents/git/data/bears1/teddys/00000161.jpg'\n",
      "cannot identify image file '/home/chihchungwang/Documents/git/data/bears1/teddys/00000199.jpg'\n",
      "cannot identify image file '/home/chihchungwang/Documents/git/data/bears1/teddys/00000174.jpg'\n",
      "cannot identify image file '/home/chihchungwang/Documents/git/data/bears1/teddys/00000129.jpg'\n",
      "cannot identify image file '/home/chihchungwang/Documents/git/data/bears1/teddys/00000145.jpg'\n",
      "cannot identify image file '/home/chihchungwang/Documents/git/data/bears1/teddys/00000011.jpg'\n",
      "cannot identify image file '/home/chihchungwang/Documents/git/data/bears1/teddys/00000173.jpg'\n",
      "cannot identify image file '/home/chihchungwang/Documents/git/data/bears1/teddys/00000100.jpg'\n",
      "cannot identify image file '/home/chihchungwang/Documents/git/data/bears1/teddys/00000064.jpg'\n",
      "cannot identify image file '/home/chihchungwang/Documents/git/data/bears1/teddys/00000189.jpg'\n",
      "cannot identify image file '/home/chihchungwang/Documents/git/data/bears1/teddys/00000081.jpg'\n",
      "grizzly\n"
     ]
    },
    {
     "data": {
      "text/html": [
       "\n",
       "    <div>\n",
       "        <style>\n",
       "        \t/* Turns off some styling */\n",
       "        \tprogress {\n",
       "\n",
       "            \t/* gets rid of default border in Firefox and Opera. */\n",
       "            \tborder: none;\n",
       "\n",
       "            \t/* Needs to be in here for Safari polyfill so background images work as expected. */\n",
       "            \tbackground-size: auto;\n",
       "            }\n",
       "\n",
       "            .progress-bar-interrupted, .progress-bar-interrupted::-webkit-progress-bar {\n",
       "                background: #F44336;\n",
       "            }\n",
       "        </style>\n",
       "      <progress value='200' class='' max='200', style='width:300px; height:20px; vertical-align: middle;'></progress>\n",
       "      100.00% [200/200 00:21<00:00]\n",
       "    </div>\n",
       "    "
      ],
      "text/plain": [
       "<IPython.core.display.HTML object>"
      ]
     },
     "metadata": {},
     "output_type": "display_data"
    },
    {
     "name": "stdout",
     "output_type": "stream",
     "text": [
      "Error https://bloximages.chicago2.vip.townnews.com/montanauntamed.com/content/tncms/assets/v3/editorial/8/2c/82cc48dc-22e9-5b09-8280-7e5f74526021/5b9962af29a53.image.jpg?resize=1200%2C800 'content-length'\n",
      "Error https://media.npr.org/assets/img/2018/08/29/ap_18221700583150_wide-8485a73a449b2b371197afbde92558300f8cc90b-s800-c85.jpg 'content-length'\n",
      "Error http://mediad.publicbroadcasting.net/p/kufm/files/styles/x_large/public/201809/grizzly-bear-02_Istock.jpg 'content-length'\n",
      "Error https://bloximages.newyork1.vip.townnews.com/swnewsmedia.com/content/tncms/assets/v3/editorial/a/1b/a1b8eb00-9989-5aa4-b641-f1e23ddb9b09/5b9ba8a0eee6f.image.jpg?resize=1200%2C800 'content-length'\n",
      "Error https://bloximages.chicago2.vip.townnews.com/idahostatejournal.com/content/tncms/assets/v3/editorial/4/9d/49d1d4e4-7071-50ac-8d33-0117deac6ae5/5accfa3bc1129.image.jpg?resize=1200%2C863 'content-length'\n",
      "Error http://gephardtdaily.com/wp-content/uploads/2015/08/Grizzlybear55.jpg 'content-length'\n",
      "Error https://bloximages.chicago2.vip.townnews.com/missoulian.com/content/tncms/assets/v3/editorial/8/56/856e113a-d655-5f7e-98a0-ce085ab731e0/5b50dacaa8cd4.image.jpg?resize=1200%2C828 'content-length'\n",
      "Error https://www.ctvnews.ca/polopoly_fs/1.3926958.1526149010!/httpImage/image.jpg_gen/derivatives/landscape_620/image.jpg 'content-length'\n",
      "Error https://bloximages.newyork1.vip.townnews.com/swnewsmedia.com/content/tncms/assets/v3/editorial/4/43/4430a137-bece-5cea-a2f1-d246a616a5dc/5b9ba8a19d3b8.image.jpg?resize=1200%2C800 'content-length'\n"
     ]
    },
    {
     "data": {
      "text/html": [
       "\n",
       "    <div>\n",
       "        <style>\n",
       "        \t/* Turns off some styling */\n",
       "        \tprogress {\n",
       "\n",
       "            \t/* gets rid of default border in Firefox and Opera. */\n",
       "            \tborder: none;\n",
       "\n",
       "            \t/* Needs to be in here for Safari polyfill so background images work as expected. */\n",
       "            \tbackground-size: auto;\n",
       "            }\n",
       "\n",
       "            .progress-bar-interrupted, .progress-bar-interrupted::-webkit-progress-bar {\n",
       "                background: #F44336;\n",
       "            }\n",
       "        </style>\n",
       "      <progress value='191' class='' max='191', style='width:300px; height:20px; vertical-align: middle;'></progress>\n",
       "      100.00% [191/191 00:03<00:00]\n",
       "    </div>\n",
       "    "
      ],
      "text/plain": [
       "<IPython.core.display.HTML object>"
      ]
     },
     "metadata": {},
     "output_type": "display_data"
    },
    {
     "name": "stdout",
     "output_type": "stream",
     "text": [
      "cannot identify image file '/home/chihchungwang/Documents/git/data/bears1/grizzly/00000149.jpg'\n",
      "cannot identify image file '/home/chihchungwang/Documents/git/data/bears1/grizzly/00000112.jpg'\n",
      "cannot identify image file '/home/chihchungwang/Documents/git/data/bears1/grizzly/00000159.jpg'\n",
      "cannot identify image file '/home/chihchungwang/Documents/git/data/bears1/grizzly/00000046.jpg'\n",
      "cannot identify image file '/home/chihchungwang/Documents/git/data/bears1/grizzly/00000133.jpg'\n",
      "cannot identify image file '/home/chihchungwang/Documents/git/data/bears1/grizzly/00000147.jpg'\n",
      "cannot identify image file '/home/chihchungwang/Documents/git/data/bears1/grizzly/00000080.jpg'\n",
      "cannot identify image file '/home/chihchungwang/Documents/git/data/bears1/grizzly/00000168.jpg'\n",
      "cannot identify image file '/home/chihchungwang/Documents/git/data/bears1/grizzly/00000129.jpg'\n",
      "cannot identify image file '/home/chihchungwang/Documents/git/data/bears1/grizzly/00000142.jpg'\n",
      "cannot identify image file '/home/chihchungwang/Documents/git/data/bears1/grizzly/00000079.jpg'\n",
      "cannot identify image file '/home/chihchungwang/Documents/git/data/bears1/grizzly/00000166.jpg'\n",
      "cannot identify image file '/home/chihchungwang/Documents/git/data/bears1/grizzly/00000115.jpg'\n",
      "cannot identify image file '/home/chihchungwang/Documents/git/data/bears1/grizzly/00000050.jpg'\n",
      "cannot identify image file '/home/chihchungwang/Documents/git/data/bears1/grizzly/00000141.jpg'\n",
      "cannot identify image file '/home/chihchungwang/Documents/git/data/bears1/grizzly/00000032.jpg'\n",
      "cannot identify image file '/home/chihchungwang/Documents/git/data/bears1/grizzly/00000025.jpg'\n",
      "cannot identify image file '/home/chihchungwang/Documents/git/data/bears1/grizzly/00000192.jpg'\n",
      "cannot identify image file '/home/chihchungwang/Documents/git/data/bears1/grizzly/00000104.jpg'\n",
      "cannot identify image file '/home/chihchungwang/Documents/git/data/bears1/grizzly/00000130.jpg'\n",
      "cannot identify image file '/home/chihchungwang/Documents/git/data/bears1/grizzly/00000118.jpg'\n",
      "cannot identify image file '/home/chihchungwang/Documents/git/data/bears1/grizzly/00000034.jpg'\n",
      "cannot identify image file '/home/chihchungwang/Documents/git/data/bears1/grizzly/00000095.jpg'\n",
      "cannot identify image file '/home/chihchungwang/Documents/git/data/bears1/grizzly/00000016.jpg'\n",
      "cannot identify image file '/home/chihchungwang/Documents/git/data/bears1/grizzly/00000088.jpg'\n",
      "black\n"
     ]
    },
    {
     "data": {
      "text/html": [
       "\n",
       "    <div>\n",
       "        <style>\n",
       "        \t/* Turns off some styling */\n",
       "        \tprogress {\n",
       "\n",
       "            \t/* gets rid of default border in Firefox and Opera. */\n",
       "            \tborder: none;\n",
       "\n",
       "            \t/* Needs to be in here for Safari polyfill so background images work as expected. */\n",
       "            \tbackground-size: auto;\n",
       "            }\n",
       "\n",
       "            .progress-bar-interrupted, .progress-bar-interrupted::-webkit-progress-bar {\n",
       "                background: #F44336;\n",
       "            }\n",
       "        </style>\n",
       "      <progress value='200' class='' max='200', style='width:300px; height:20px; vertical-align: middle;'></progress>\n",
       "      100.00% [200/200 00:14<00:00]\n",
       "    </div>\n",
       "    "
      ],
      "text/plain": [
       "<IPython.core.display.HTML object>"
      ]
     },
     "metadata": {},
     "output_type": "display_data"
    },
    {
     "name": "stdout",
     "output_type": "stream",
     "text": [
      "Error https://bloximages.newyork1.vip.townnews.com/fredericknewspost.com/content/tncms/assets/v3/editorial/3/a1/3a150851-3858-5675-b9da-ceb0c5cd3bba/5bd7903fe49d4.image.jpg?resize=400%2C224 'content-length'\n",
      "Error https://bloximages.chicago2.vip.townnews.com/enewscourier.com/content/tncms/assets/v3/editorial/c/82/c82c3486-8ae5-11e8-8d1a-4f658519a43a/5b4fd3380cc3b.image.jpg?resize=1200%2C800 'content-length'\n",
      "Error https://bloximages.newyork1.vip.townnews.com/pilotonline.com/content/tncms/assets/v3/editorial/8/47/84743c51-975b-555f-9f30-1234790e97a8/563d905fe2c27.image.jpg?resize=1200%2C852 'content-length'\n"
     ]
    },
    {
     "data": {
      "text/html": [
       "\n",
       "    <div>\n",
       "        <style>\n",
       "        \t/* Turns off some styling */\n",
       "        \tprogress {\n",
       "\n",
       "            \t/* gets rid of default border in Firefox and Opera. */\n",
       "            \tborder: none;\n",
       "\n",
       "            \t/* Needs to be in here for Safari polyfill so background images work as expected. */\n",
       "            \tbackground-size: auto;\n",
       "            }\n",
       "\n",
       "            .progress-bar-interrupted, .progress-bar-interrupted::-webkit-progress-bar {\n",
       "                background: #F44336;\n",
       "            }\n",
       "        </style>\n",
       "      <progress value='197' class='' max='197', style='width:300px; height:20px; vertical-align: middle;'></progress>\n",
       "      100.00% [197/197 00:03<00:00]\n",
       "    </div>\n",
       "    "
      ],
      "text/plain": [
       "<IPython.core.display.HTML object>"
      ]
     },
     "metadata": {},
     "output_type": "display_data"
    },
    {
     "name": "stdout",
     "output_type": "stream",
     "text": [
      "cannot identify image file '/home/chihchungwang/Documents/git/data/bears1/black/00000069.jpg'\n",
      "cannot identify image file '/home/chihchungwang/Documents/git/data/bears1/black/00000116.jpg'\n",
      "cannot identify image file '/home/chihchungwang/Documents/git/data/bears1/black/00000007.jpg'\n",
      "cannot identify image file '/home/chihchungwang/Documents/git/data/bears1/black/00000079.jpg'\n",
      "cannot identify image file '/home/chihchungwang/Documents/git/data/bears1/black/00000029.jpg'\n",
      "cannot identify image file '/home/chihchungwang/Documents/git/data/bears1/black/00000084.jpg'\n",
      "cannot identify image file '/home/chihchungwang/Documents/git/data/bears1/black/00000144.jpg'\n",
      "cannot identify image file '/home/chihchungwang/Documents/git/data/bears1/black/00000056.jpg'\n",
      "cannot identify image file '/home/chihchungwang/Documents/git/data/bears1/black/00000006.jpg'\n",
      "cannot identify image file '/home/chihchungwang/Documents/git/data/bears1/black/00000103.jpg'\n",
      "cannot identify image file '/home/chihchungwang/Documents/git/data/bears1/black/00000189.jpg'\n",
      "cannot identify image file '/home/chihchungwang/Documents/git/data/bears1/black/00000064.jpg'\n",
      "cannot identify image file '/home/chihchungwang/Documents/git/data/bears1/black/00000134.jpg'\n",
      "cannot identify image file '/home/chihchungwang/Documents/git/data/bears1/black/00000008.jpg'\n",
      "cannot identify image file '/home/chihchungwang/Documents/git/data/bears1/black/00000090.jpg'\n",
      "cannot identify image file '/home/chihchungwang/Documents/git/data/bears1/black/00000037.jpg'\n",
      "cannot identify image file '/home/chihchungwang/Documents/git/data/bears1/black/00000018.jpg'\n"
     ]
    }
   ],
   "source": [
    "for i in range(0,len(classes)):\n",
    "    file=imgLinks[i]\n",
    "    folder=classes[i]  \n",
    "    print(folder)\n",
    "    download_images(path/file, path/folder, max_pics=200)\n",
    "    verify_images(path/folder, delete=True, max_workers=8)"
   ]
  },
  {
   "cell_type": "code",
   "execution_count": null,
   "metadata": {},
   "outputs": [],
   "source": []
  }
 ],
 "metadata": {
  "kernelspec": {
   "display_name": "Python [conda env:fastai]",
   "language": "python",
   "name": "conda-env-fastai-py"
  },
  "language_info": {
   "codemirror_mode": {
    "name": "ipython",
    "version": 3
   },
   "file_extension": ".py",
   "mimetype": "text/x-python",
   "name": "python",
   "nbconvert_exporter": "python",
   "pygments_lexer": "ipython3",
   "version": "3.6.6"
  }
 },
 "nbformat": 4,
 "nbformat_minor": 2
}
